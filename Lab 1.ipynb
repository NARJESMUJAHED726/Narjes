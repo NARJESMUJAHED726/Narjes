{
 "cells": [
  {
   "cell_type": "code",
   "execution_count": null,
   "id": "a6a70ba9",
   "metadata": {
    "vscode": {
     "languageId": "plaintext"
    }
   },
   "outputs": [],
   "source": [
    "# Import libraries\n",
    "from sklearn.datasets import load_breast_cancer\n",
    "from sklearn.model_selection import train_test_split, cross_val_score, StratifiedKFold\n",
    "from sklearn.ensemble import RandomForestClassifier\n",
    "from sklearn.metrics import (classification_report, roc_auc_score, roc_curve, \n",
    "                            precision_recall_curve, average_precision_score, \n",
    "                            confusion_matrix, ConfusionMatrixDisplay)\n",
    "import matplotlib.pyplot as plt\n",
    "import numpy as np"
   ]
  },
  {
   "cell_type": "code",
   "execution_count": null,
   "id": "7aca51cb",
   "metadata": {
    "vscode": {
     "languageId": "plaintext"
    }
   },
   "outputs": [],
   "source": [
    "# Load dataset\n",
    "data = load_breast_cancer()\n",
    "X, y = data.data, data.target\n",
    "\n",
    "# Split data into train (70%) and test (30%) sets\n",
    "X_train, X_test, y_train, y_test = train_test_split(\n",
    "    X, y, test_size=0.3, random_state=42, stratify=y\n",
    ")"
   ]
  },
  {
   "cell_type": "code",
   "execution_count": null,
   "id": "acaffbff",
   "metadata": {
    "vscode": {
     "languageId": "plaintext"
    }
   },
   "outputs": [],
   "source": [
    "# Initialize model (Random Forest for demonstration)\n",
    "model = RandomForestClassifier(random_state=42)"
   ]
  },
  {
   "cell_type": "code",
   "execution_count": null,
   "id": "3b341c0f",
   "metadata": {
    "vscode": {
     "languageId": "plaintext"
    }
   },
   "outputs": [],
   "source": [
    "# ======================\n",
    "# 1. Cross-Validation\n",
    "# ======================\n",
    "print(\"\\n=== Cross-Validation ===\")\n",
    "stratified_kfold = StratifiedKFold(n_splits=5, shuffle=True, random_state=42)\n",
    "cv_scores = cross_val_score(model, X_train, y_train, \n",
    "                           cv=stratified_kfold, scoring='accuracy')\n",
    "\n",
    "print(f\"Fold Accuracies: {cv_scores}\")\n",
    "print(f\"Mean CV Accuracy: {np.mean(cv_scores):.4f} (±{np.std(cv_scores):.4f})\")"
   ]
  },
  {
   "cell_type": "code",
   "execution_count": null,
   "id": "bcf8e220",
   "metadata": {
    "vscode": {
     "languageId": "plaintext"
    }
   },
   "outputs": [],
   "source": [
    "# ======================\n",
    "# 2. Model Training & Evaluation\n",
    "# ======================\n",
    "model.fit(X_train, y_train)\n",
    "y_pred = model.predict(X_test)\n",
    "y_prob = model.predict_proba(X_test)[:, 1]  # Probabilities for positive class"
   ]
  },
  {
   "cell_type": "code",
   "execution_count": null,
   "id": "f4d0db18",
   "metadata": {
    "vscode": {
     "languageId": "plaintext"
    }
   },
   "outputs": [],
   "source": [
    "# Classification Report\n",
    "print(\"\\n=== Classification Report ===\")\n",
    "print(classification_report(y_test, y_pred))"
   ]
  },
  {
   "cell_type": "code",
   "execution_count": null,
   "id": "0dd70afb",
   "metadata": {
    "vscode": {
     "languageId": "plaintext"
    }
   },
   "outputs": [],
   "source": [
    "# Confusion Matrix\n",
    "print(\"\\n=== Confusion Matrix ===\")\n",
    "cm = confusion_matrix(y_test, y_pred)\n",
    "ConfusionMatrixDisplay(cm, display_labels=['Benign', 'Malignant']).plot()\n",
    "plt.title(\"Confusion Matrix\")\n",
    "plt.show()"
   ]
  },
  {
   "cell_type": "code",
   "execution_count": null,
   "id": "dfe7429c",
   "metadata": {
    "vscode": {
     "languageId": "plaintext"
    }
   },
   "outputs": [],
   "source": [
    "# ======================\n",
    "# 3. ROC & Precision-Recall Curves\n",
    "# ======================\n",
    "fig, (ax1, ax2) = plt.subplots(1, 2, figsize=(12, 5))\n",
    "\n",
    "# ROC & AUC Curve\n",
    "fpr, tpr, _ = roc_curve(y_test, y_prob)\n",
    "roc_auc = roc_auc_score(y_test, y_prob)\n",
    "ax1.plot(fpr, tpr, label=f'AUC = {roc_auc:.2f}')\n",
    "ax1.plot([0, 1], [0, 1], 'k--')\n",
    "ax1.set_xlabel('False Positive Rate')\n",
    "ax1.set_ylabel('True Positive Rate')\n",
    "ax1.set_title('ROC Curve')\n",
    "ax1.legend(loc='lower right')\n",
    "ax1.grid()\n",
    "\n",
    "# Precision-Recall Curve\n",
    "precision, recall, _ = precision_recall_curve(y_test, y_prob)\n",
    "avg_precision = average_precision_score(y_test, y_prob)\n",
    "ax2.plot(recall, precision, label=f'AP = {avg_precision:.2f}')\n",
    "ax2.set_xlabel('Recall')\n",
    "ax2.set_ylabel('Precision')\n",
    "ax2.set_title('Precision-Recall Curve')\n",
    "ax2.legend(loc='upper right')\n",
    "ax2.grid()\n",
    "\n",
    "plt.tight_layout()\n",
    "plt.show()"
   ]
  },
  {
   "cell_type": "code",
   "execution_count": null,
   "id": "c60d4a4c",
   "metadata": {
    "vscode": {
     "languageId": "plaintext"
    }
   },
   "outputs": [],
   "source": [
    "# ======================\n",
    "# 4. Bias-Variance Analysis (Bonus)\n",
    "# ======================\n",
    "print(\"\\n=== Bias-Variance Analysis ===\")\n",
    "max_depths = [1, 3, 5, 10, 20, None]\n",
    "train_scores, test_scores = [], []\n",
    "\n",
    "for depth in max_depths:\n",
    "    model = RandomForestClassifier(max_depth=depth, random_state=42)\n",
    "    model.fit(X_train, y_train)\n",
    "    train_scores.append(model.score(X_train, y_train))\n",
    "    test_scores.append(model.score(X_test, y_test))\n",
    "\n",
    "plt.figure(figsize=(8, 5))\n",
    "plt.plot(max_depths[:-1], train_scores[:-1], 'o-', label='Train Accuracy')\n",
    "plt.plot(max_depths[:-1], test_scores[:-1], 'o-', label='Test Accuracy')\n",
    "plt.axvline(x=5, color='gray', linestyle='--', alpha=0.5)\n",
    "plt.xlabel('Max Tree Depth (Complexity)')\n",
    "plt.ylabel('Accuracy')\n",
    "plt.title('Bias-Variance Tradeoff')\n",
    "plt.legend()\n",
    "plt.grid()\n",
    "plt.show()"
   ]
  }
 ],
 "metadata": {
  "language_info": {
   "name": "python"
  }
 },
 "nbformat": 4,
 "nbformat_minor": 5
}
